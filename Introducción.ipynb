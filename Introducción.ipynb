{
 "cells": [
  {
   "cell_type": "markdown",
   "id": "0503e393",
   "metadata": {},
   "source": [
    "# Introducción"
   ]
  },
  {
   "cell_type": "markdown",
   "id": "936519d2",
   "metadata": {},
   "source": [
    "Este libro está diseñado para que puedas aprender sobre los principales temas relacionados con la aplicación de técnicas heurísticas a problemas de optimización.\n",
    "\n",
    "Además, para no quedarnos en asectos teóricos, se incluyen algunos algoritmos que muestran la forma en que se pueden implementar las técnicas vistas en el libro para resolver algunos problemas clásicos.\n",
    "\n",
    "Finalmente, si tienes una cuenta en Gmail, puedes activar Google Colaboratory y ejecutar los algoritmos propuestos en alguno de los servidosres de Google. \n",
    "\n",
    "Si aún no has activado Google Colaboratory te recomendamos el siguiente video: https://youtu.be/m0j5ETYAWuk\n",
    "\n",
    "Si ya activaste Google Colab y quieres ejecutar los algoritmos, te pedimos que des click en el ícono de Colab y que compiles cada una de las celdas que contienen código."
   ]
  },
  {
   "cell_type": "markdown",
   "id": "ec5fb56b",
   "metadata": {},
   "source": [
    "from IPython.display import Image\n",
    "Image('Activa_Colab.jpg')"
   ]
  },
  {
   "cell_type": "code",
   "execution_count": null,
   "id": "595004bb",
   "metadata": {},
   "outputs": [],
   "source": []
  }
 ],
 "metadata": {
  "kernelspec": {
   "display_name": "Python 3 (ipykernel)",
   "language": "python",
   "name": "python3"
  },
  "language_info": {
   "codemirror_mode": {
    "name": "ipython",
    "version": 3
   },
   "file_extension": ".py",
   "mimetype": "text/x-python",
   "name": "python",
   "nbconvert_exporter": "python",
   "pygments_lexer": "ipython3",
   "version": "3.9.7"
  }
 },
 "nbformat": 4,
 "nbformat_minor": 5
}
