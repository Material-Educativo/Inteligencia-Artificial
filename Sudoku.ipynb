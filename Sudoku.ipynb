{
 "cells": [
  {
   "cell_type": "markdown",
   "metadata": {
    "id": "wXgbPLH24U5d"
   },
   "source": [
    "# Sudoku"
   ]
  },
  {
   "cell_type": "markdown",
   "metadata": {
    "id": "gwH6Ovhsv5Sz"
   },
   "source": [
    "## Introducción\n",
    "El Sudoku es un pasatiempo que en los últimos años se ha popularizado y para algunas personas se ha vuelto adictivo, quizás porque las reglas para resolverlo son muy simples.\n",
    "El objetivo del Sudoku es llenar una cuadrícula de $n^2*n^2$ celdas, dividida en $n^2$ sub-cuadrículas, o cuadrantes, de *n* * *n* en donde se deben colocar los enteros del 1 a $n^2$ de acuerdo a las siguientes tres reglas:\n",
    "1.\tLas celdas de cada uno de los renglones deben contener los enteros del 1 a $n^2$ exactamente una vez.\n",
    "2.\tLas celdas de cada una de las columnas deben contener los enteros de 1 a $n^2$ exactamente una vez.\n",
    "3.\tCada una de las sub-cuadrículas debe contener los enteros de 1 a $n^2$ exactamente una vez."
   ]
  },
  {
   "cell_type": "markdown",
   "metadata": {
    "id": "8uPy3q7fwQV5"
   },
   "source": [
    "Estas reglas tan simples son quizás lo que ha hecho que el juego se popularice y que se haya hecho adictivo para algunas personas. \n",
    "\n",
    "Al entero *n* se le llama orden del Sudoku. Cada Sudoku, bien planteado, tiene una solución válida única y no requiere usar técnicas de ensayo y error o adivinar sino que se resuelve empleando tres reglas por medio del “razonamiento”. \n",
    "\n",
    "A pesar de su aparente facilidad para resolverlo, se ha demostrado que el Sudoku es un problema NP-Completo."
   ]
  }
 ],
 "metadata": {
  "colab": {
   "authorship_tag": "ABX9TyPF7qFJ4pSZTufaRdYm1gHd",
   "collapsed_sections": [],
   "mount_file_id": "1Wq-EQ_a15CWfzaiR5Qc2LtSJkAbO2lJw",
   "name": "Sudoku.ipynb",
   "provenance": []
  },
  "kernelspec": {
   "display_name": "Python 3 (ipykernel)",
   "language": "python",
   "name": "python3"
  },
  "language_info": {
   "codemirror_mode": {
    "name": "ipython",
    "version": 3
   },
   "file_extension": ".py",
   "mimetype": "text/x-python",
   "name": "python",
   "nbconvert_exporter": "python",
   "pygments_lexer": "ipython3",
   "version": "3.9.7"
  }
 },
 "nbformat": 4,
 "nbformat_minor": 1
}
