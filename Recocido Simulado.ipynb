{
 "cells": [
  {
   "cell_type": "markdown",
   "metadata": {
    "id": "Ow9eP4FSO4pn"
   },
   "source": [
    "# Recocido Simulado\n",
    "\n",
    "Recocido Simulado es una técnicas de búsqueda local que permite movimientos ascendentes para escapar de óptimos locales. Su principio es fácil de entender, y su eficacia depende de identificar y definir correctamente cada una de sus componentes, ya que tienen una gran influencia en la calidad de las soluciones obtenidas.\n",
    "\n",
    "Recocido simulado fue introducido originalmente por Kirkpatrick, Gelett y Vecchi en 1983 {cite}'Kirkpatrick1983Optimization'."
   ]
  },
  {
   "cell_type": "markdown",
   "metadata": {
    "id": "h-JD2TDxP-YM"
   },
   "source": [
    "## Proceso físico\n",
    "Recocido denota un proceso de calentamiento de un sólido seguido de un proceso de enfriamiento en donde la temperatura se baja poco a poco. \n",
    "\n",
    "Se inicia con un valor máximo de temperatura $T$, y durante la fase de enfriamiento para cada valor de $T$ debe permitirse que se alcance un equilibrio térmico.\n",
    "\n",
    "Si se realiza de forma adecuada, el sólido obtenido presenta una estructura molecular que lo hace más resistente."
   ]
  },
  {
   "cell_type": "markdown",
   "metadata": {
    "id": "JoGo-IU6QrJW"
   },
   "source": [
    "## Pseudo-código\n",
    "Sean $C(s)$ el costo de la solución actual, $s$, y $V(s)$ una vecindad de $s$.\n",
    "\n",
    "1. Seleccionar una solución inicial $s_0$.\n",
    "\n",
    "2. Seleccionar una temperatura inicial $T_0>0$, y una función de reducción de temperatura.\n",
    "3. Seleccionar un número de iteraciones $nrep$ y un criterio de parada.\n",
    "4. *REPETIR* hasta criterio de parada.\n",
    "5. &emsp; *REPETIR* hasta $nrep$\n",
    "6. &emsp;&emsp; Seleccionar aleatoriamente una solución $s \\in V(s_0)$.\n",
    "7. &emsp;&emsp; $δ = C(s) -C(s_0)$\n",
    "8. &emsp;&emsp; Si $δ< 0$ entonces $s_0=s$\n",
    "9. &emsp;&emsp; Si no\n",
    "10. &emsp;&emsp;&emsp; Generar aleatoriamente $x \\in U(0,1)$\n",
    "11. &emsp;&emsp;&emsp; si $x < exp(-δ/c)$ entonces $s_0 = s$\n",
    "12. &emsp;Actualizar temperatura"
   ]
  },
  {
   "cell_type": "markdown",
   "metadata": {
    "id": "gEHlF2JgdvB_"
   },
   "source": [
    "## Consideraciones generales\n",
    "El proceso de recocido requiere la especificación de los parámetros que determinan el programa de enfriamiento.\n",
    "1. Valor inicial de la temperatura, se recomienda definir una temperatura inicial que permita la aceptación del 80% de las soluciones de mala calidad visitadas.\n",
    "2. Una función que especifique el enfriamiento, una de las técnicas más comunies es el enfriamiento geométrico, que consiste en actualizar la temperatua mediante la fórmula $T=\\alpha T$, para $\\alpha \\in (0,1)$.\n",
    "3. Número de iteraciones antes de actualizar la temperatura, esto favorece el proceso de exploración del algoritmo.\n",
    "4. Criterio de parada, normalmente se establece una temperatura límite que favorezca el proceso de intensificación, cuando se alcanza el algoritmo se detiene."
   ]
  },
  {
   "cell_type": "markdown",
   "metadata": {
    "id": "IpYNPjIIeEpM"
   },
   "source": [
    "## Ventajas de su uso\n",
    "1. Es una técnica fácil de entender e implementar.\n",
    "2. No se requiere de un modelo matemático basta con definir un método para generar soluciones vecinas y evaluarlas.\n",
    "3. Ha demostrado su habilidad en diferentes problemas.\n",
    "4. La calidad de las soluciones no depende de la solución inicial."
   ]
  },
  {
   "cell_type": "markdown",
   "metadata": {
    "id": "PPMaBQJMfPdp"
   },
   "source": [
    "## Desventajas de su uso\n",
    "\n",
    "1. Una temperatura inicial alta permite fuertes perturbaciones, por lo que se puede llegar a valles profundos o a cimas muy altas. De esta forma se satisface la exploración del espacio de soluciones. Por otro lado, las temperturas bajas ayudan a favorecer el proceso de intensificación. Por lo anterior se deben tener las siguientes consideraciones.\n",
    "\n",
    "> a) Si la temperatura inicial es baja, el algoritmo no realizará una exploración adecuada.\n",
    "\n",
    "\n",
    "\n",
    "> b) Si la temperatura inicial es demasiado alta se invertirá mucho tiempo en exploración y aunmentará el tiempo de cómputo. \n",
    "\n",
    "> c) Si la temperatura final es alta no podrá explorar adecuadamente el vecindario de soluciones de buena calidad, y sus resultados pueden ser malos.\n",
    "\n",
    "> d) Si la temperatura final es demasido pequeña se invertirá mucho tiempo en exploración y aunmentará el tiempo de cómputo. \n",
    "\n",
    "> e) Asimismo, también es importante determinar el número adecuado de iteraciones que debe mantenerse cada temperatura\n",
    "\n",
    "2. Descenso de la temperatura inadecuado.\n",
    "\n",
    "> a) Muy despacio hace lento al algoritmo, por lo que su ejecución puede tomar demasiado tiempo.\n",
    "\n",
    "> b) Muy rápido disminuye sus probabilidades de eficacia, y las soluciones devueltas pueden ser de mala calidad.\n",
    "\n",
    "3. Alta dependencia del generador de números aleatorios\n",
    "\n",
    "> a) Requiere muchos valores.\n",
    "\n",
    "> b) La calidad del generador afectará la calidad de los resultados."
   ]
  },
  {
   "cell_type": "code",
   "execution_count": null,
   "metadata": {
    "id": "Lz6JTFBFpXx1"
   },
   "outputs": [],
   "source": []
  }
 ],
 "metadata": {
  "colab": {
   "authorship_tag": "ABX9TyOm2kxUKUxOTMCAgbY+pVjg",
   "collapsed_sections": [],
   "name": "Recocido Simulado.ipynb",
   "provenance": []
  },
  "kernelspec": {
   "display_name": "Python 3 (ipykernel)",
   "language": "python",
   "name": "python3"
  },
  "language_info": {
   "codemirror_mode": {
    "name": "ipython",
    "version": 3
   },
   "file_extension": ".py",
   "mimetype": "text/x-python",
   "name": "python",
   "nbconvert_exporter": "python",
   "pygments_lexer": "ipython3",
   "version": "3.9.7"
  }
 },
 "nbformat": 4,
 "nbformat_minor": 1
}
