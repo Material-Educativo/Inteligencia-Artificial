{
 "cells": [
  {
   "cell_type": "markdown",
   "id": "55f83639",
   "metadata": {},
   "source": [
    "# Búsqueda Tabú\n",
    "El término Búsqueda Tabú, o Tabu Search en inglés, fue introducido en 1986 por Fred Glover.\n",
    "\n",
    "Los principios fundamentales de la búsqueda fueron elaborados en una serie de artículos de finales de los años 80 y principios de los 90. Finalmente fueron unificados en el libro “Tabu Search” en 1997."
   ]
  },
  {
   "cell_type": "markdown",
   "id": "59f04556",
   "metadata": {},
   "source": [
    "## Pseudo-código\n",
    "Los principales pasos de Búsqueda Tabú son:\n",
    "1. Generar una solución inicial $𝑠 \\in 𝑆$. Hacer $𝑠^∗ = 𝑠,𝑐^∗=𝑓(𝑠)$ y $𝑘=0$.\n",
    "2. Hacer 𝑘=𝑘+1 y generar un sub-conjunto $V \\subseteq 𝑁(𝑠,𝑘)$.\n",
    "3. Encontrar el mejor elemento $𝑠′\\in 𝑉 (𝑓(𝑠′) \\leq 𝑓(𝑠)$, para todo $𝑠 \\in 𝑉)$ y sustituir $s = 𝑠′$.\n",
    "4. Actualizar la lista Tabú.\n",
    "5. Si $𝑓(𝑠) \\leq 𝑓(𝑠^∗)$, sustituir $𝑠^∗ = 𝑠,𝑐^∗ = 𝑓(𝑠)$.\n",
    "6. Si cumple el criterio de paro, detenerse; de lo contrario, regresar al paso 2.\n",
    "\n",
    "Donde:\n",
    "\n",
    "$S$, es el espacio de soluciones\n",
    "\n",
    "$s$, representa a la solución actual.\n",
    "\n",
    "$s^*$, es la mejor solución encontrada hasta la iteración $k$\n",
    "\n",
    "$c^*$, es el costo de $s^*$\n",
    "\n",
    "$N(s,k)$, es el vecindario de la solución $s$ en la iteración $k$"
   ]
  },
  {
   "cell_type": "markdown",
   "id": "23371611",
   "metadata": {},
   "source": [
    "## Criterios de paro\n",
    "Como en todas las técnicas heurísticas, es posible emplear diferentes criterios de paro.\n",
    "1. El criterio más empleado consiste en detener el proceso de búsqueda cuando se alcanza un número preestablecido de iteraciones$k$.\n",
    "2. También puede establececrse un tiempo máximo de ejecución.\n",
    "3. En algunos casos, la búsqueda puede detenerse cuando es encontrado el óptimo global, en caso de que se conozca.\n",
    "4. También puede establecerse como criterio de paro si se llega a un punto en el que el vecindario de la solución actual es vacío, $𝑁(𝑠,𝑘+1)= \\phi$. "
   ]
  },
  {
   "cell_type": "markdown",
   "id": "599b1bf8",
   "metadata": {},
   "source": [
    "## Lista Tabú\n",
    "\n",
    "La lista Tabú prohíbe movimientos que llevan a soluciones visitadas recientemente. De esta forma se evita la posibilidad de aparición de ciclos en la búsqueda: $𝑠 \\rightarrow 𝑠′ \\rightarrow 𝑠$.\n",
    "\n",
    "La lista Tabú se convierte en un mecanismo para escapar de óptimos locales."
   ]
  },
  {
   "cell_type": "markdown",
   "id": "115aa3cf",
   "metadata": {},
   "source": [
    "El manejo de la lista tabú, $Τ$, normalmente implica remover las últimas soluciones visitadas del vecindario de la solución actual, de esta forma el vecindario de la solución $s$ en la iteración $k$ puede verse como $𝑁(𝑠,k) = 𝑁(𝑠) \\setminus Τ$.\n",
    "\n",
    "Este procedimiento garantiza que no habrá ciclos de longitud menor o igual a $|Τ|$ en la trayectoria de búsqueda.\n",
    "\n",
    "Sin embargo, almacenar soluciones completas en la lista Tabú puede ser muy poco práctico, por lo que se prefiere trabajar con una lista de movimientos."
   ]
  },
  {
   "cell_type": "markdown",
   "id": "dac90525",
   "metadata": {},
   "source": [
    "Por lo anterior se pueden emplear listas Tabú que almacenen los últimos movimientos.\n",
    "\n",
    "Este tipo de listas se ocupan principalmente con vecindarios tales que los movimientos son reversibles.\n",
    "\n",
    "Se mantiene en $Τ$ los inversos de los últimos $|Τ|$ movimientos, de esta forma se convierten en movimientos prohibidos.\n",
    "\n",
    "Implicaciones:\n",
    "1. Aunque se evitan ciclos \"inmediatos\", no evita la aparición de ciclos de longitud mayor o igual a $|Τ|$.\n",
    "2. Una lista Tabú de los últimos movimientos puede llevar a asignar un estatus “Tabú” a soluciones aún no visitadas, por lo que es importante establecer una relajación de este estatus."
   ]
  },
  {
   "cell_type": "markdown",
   "id": "193dd7fd",
   "metadata": {},
   "source": [
    "## Criterio de aspiración\n",
    "\n",
    "El criterio de aspiración se aplica cuando se puede llegar a una solución vecina atractiva, pero mediante la realización de un movimiento que está en la lista Tabú.\n",
    "\n",
    "Por ejemplo, si la solución prohibida tiene un costo mejor que el de la mejor solución encontrada hasta este momento, se ignora el estatus “Tabú” y la solución candidata reemplaza a la actual.\n",
    "\n",
    "En general se consideran dos tipos de criterios de aspiración.\n",
    "\n",
    "Aspiración por Defecto: Si todos los movimientos disponibles están en la lista Tabú, y no se han hecho admisibles mediante algunos otros criterios de aspiración, entonces se selecciona el movimiento menos tabú.\n",
    "\n",
    "Aspiración por objetivo: Se satisface una aspiración de movimiento cuando el costo de la nueva solución es mejor que la mejor conocida."
   ]
  },
  {
   "cell_type": "markdown",
   "id": "121cd1ca",
   "metadata": {},
   "source": [
    "## Oscilación estratégica\n",
    "\n",
    "Opera movimientos hasta chocar con una frontera, representada por la factibilidad, que normalmente representaría un punto donde el método se pararía.\n",
    "\n",
    "El vecindario se extiende o el criterio de evaluación se modifica para permitir que la frontera se cruce. \n",
    "\n",
    "El método entonces continúa más allá de la frontera y luego vuelve.\n",
    "\n",
    "Después se vuelve a aproximar a la frontera y se cruza, en dirección opuesta, procediendo a un nuevo punto de giro."
   ]
  },
  {
   "cell_type": "markdown",
   "id": "c182568f",
   "metadata": {},
   "source": [
    "El proceso de acercarse repetidamente y cruzar la frontera desde diferentes direcciones crea una forma de oscilación que da al método su nombre.\n",
    "\n",
    "El control sobre esta oscilación se establece generando evaluaciones modificadas y reglas de movimiento.\n",
    "\n",
    "Se puede tomar en cuenta la región en la que se está, y la dirección de la búsqueda\n",
    "\n",
    "La posibilidad de recorrer de nuevo una trayectoria anterior se evita con los mecanismos tabú estándares.\n",
    "\n",
    "La frontera incorporada no necesita definirse en términos de factibilidad, puede ser una región donde la búsqueda parece gravitar. La oscilación obliga a la búsqueda a salir de esta región y permitirle volver."
   ]
  },
  {
   "cell_type": "markdown",
   "id": "7770eeb9",
   "metadata": {},
   "source": [
    "## Intensificación y Diversificación"
   ]
  },
  {
   "cell_type": "code",
   "execution_count": null,
   "id": "4375bba0",
   "metadata": {},
   "outputs": [],
   "source": []
  }
 ],
 "metadata": {
  "kernelspec": {
   "display_name": "Python 3 (ipykernel)",
   "language": "python",
   "name": "python3"
  },
  "language_info": {
   "codemirror_mode": {
    "name": "ipython",
    "version": 3
   },
   "file_extension": ".py",
   "mimetype": "text/x-python",
   "name": "python",
   "nbconvert_exporter": "python",
   "pygments_lexer": "ipython3",
   "version": "3.9.7"
  }
 },
 "nbformat": 4,
 "nbformat_minor": 5
}
